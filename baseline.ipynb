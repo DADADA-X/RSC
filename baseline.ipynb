{
 "cells": [
  {
   "cell_type": "markdown",
   "metadata": {},
   "source": [
    "# 引用部分"
   ]
  },
  {
   "cell_type": "code",
   "execution_count": null,
   "metadata": {},
   "outputs": [],
   "source": [
    "from unet import UNet\n",
    "import utile.deeplearning as dl\n",
    "import os\n",
    "import numpy as np\n",
    "import torch\n",
    "from PIL import Image\n",
    "Image.MAX_IMAGE_PIXELS = 1000000000000000\n",
    "os.environ[\"CUDA_DEVICE_ORDER\"]=\"PCI_BUS_ID\"   # see issue #152\n",
    "os.environ[\"CUDA_VISIBLE_DEVICES\"]=\"0\"\n",
    "device = torch.device(\"cuda\" if torch.cuda.is_available() else \"cpu\")"
   ]
  },
  {
   "cell_type": "markdown",
   "metadata": {},
   "source": [
    "# 指定路径，构建数据集"
   ]
  },
  {
   "cell_type": "code",
   "execution_count": null,
   "metadata": {},
   "outputs": [],
   "source": [
    "data_dir = \"/home/ma-user/work/RSC/data/\"\n",
    "train_imgs_dir = os.path.join(data_dir, \"train/images/\")\n",
    "val_imgs_dir = os.path.join(data_dir, \"val/images/\")\n",
    "train_labels_dir = os.path.join(data_dir, \"train/labels/\")\n",
    "val_labels_dir = os.path.join(data_dir, \"val/labels/\")\n",
    "train_data = dl.RSCDataset(train_imgs_dir, train_labels_dir)\n",
    "valid_data = dl.RSCDataset(val_imgs_dir, val_labels_dir)\n",
    "checkpoint_dir = os.path.join(\"/home/ma-user/work/RSC/ckpt/\", 'unet/') # 模型保存路径\n",
    "if not os.path.exists(checkpoint_dir): os.makedirs(checkpoint_dir)"
   ]
  },
  {
   "cell_type": "markdown",
   "metadata": {
    "tags": []
   },
   "source": [
    "# 模型，参数，训练"
   ]
  },
  {
   "cell_type": "code",
   "execution_count": null,
   "metadata": {},
   "outputs": [],
   "source": [
    "model = UNet(3, 2).to(device)\n",
    "# 参数设置\n",
    "param = {}\n",
    "param['epochs'] = 41       # 训练轮数\n",
    "param['batch_size'] = 4   # 批大小\n",
    "param['lr'] = 2e-2         # 学习率\n",
    "param['gamma'] = 0.9       # 学习率衰减系数\n",
    "param['step_size'] = 5     # 学习率衰减间隔\n",
    "param['momentum'] = 0.9    #动量\n",
    "param['weight_decay'] = 0. #权重衰减\n",
    "param['checkpoint_dir'] = checkpoint_dir\n",
    "param['disp_inter'] = 1 # 显示间隔\n",
    "param['save_inter'] = 1 # 保存间隔\n",
    "# 训练\n",
    "best_model, model = dl.train_net(param, model, train_data, valid_data)"
   ]
  },
  {
   "cell_type": "markdown",
   "metadata": {},
   "source": [
    "# 在obs中生成提交目录"
   ]
  },
  {
   "cell_type": "code",
   "execution_count": null,
   "metadata": {},
   "outputs": [],
   "source": [
    "import moxing as mox\n",
    "mox.file.copy_parallel('/home/ma-user/work/RSC/RSC_Baseline/unet/', 'obs://obs-2020hwcc-baseline/submission/model/unet/')\n",
    "mox.file.copy_parallel('/home/ma-user/work/RSC/ckpt/unet/checkpoint-best.pth', 'obs://obs-2020hwcc-baseline/submission/model/model_best.pth')\n",
    "mox.file.copy_parallel('/home/ma-user/work/RSC/RSC_Baseline/subs/config.json', 'obs://obs-2020hwcc-baseline/submission/model/config.json')\n",
    "mox.file.copy_parallel('/home/ma-user/work/RSC/RSC_Baseline/subs/customize_service.py', 'obs://obs-2020hwcc-baseline/submission/model/customize_service.py')"
   ]
  }
 ],
 "metadata": {
  "kernelspec": {
   "display_name": "Python 3",
   "language": "python",
   "name": "python3"
  },
  "language_info": {
   "codemirror_mode": {
    "name": "ipython",
    "version": 3
   },
   "file_extension": ".py",
   "mimetype": "text/x-python",
   "name": "python",
   "nbconvert_exporter": "python",
   "pygments_lexer": "ipython3",
   "version": "3.7.4"
  }
 },
 "nbformat": 4,
 "nbformat_minor": 2
}
